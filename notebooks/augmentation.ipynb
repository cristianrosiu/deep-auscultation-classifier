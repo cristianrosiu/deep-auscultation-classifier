{
 "cells": [
  {
   "cell_type": "code",
   "execution_count": 12,
   "metadata": {},
   "outputs": [],
   "source": [
    "import pandas as pd\n",
    "\n",
    "df = pd.read_csv('../data/labels_int.csv')\n",
    "df = df.sample(frac=1).reset_index(drop=True)"
   ]
  },
  {
   "cell_type": "code",
   "execution_count": 17,
   "metadata": {},
   "outputs": [
    {
     "name": "stdout",
     "output_type": "stream",
     "text": [
      "0    52\n",
      "1    55\n",
      "2    17\n",
      "3    18\n",
      "dtype: int64\n",
      "0    83\n",
      "1    59\n",
      "dtype: int64\n"
     ]
    }
   ],
   "source": [
    "print (df['rhonchus_l'].append(df['rhonchus_r']).value_counts().sort_index())\n",
    "print (df['whistling_l'].append(df['whistling_r']).value_counts().sort_index())"
   ]
  },
  {
   "cell_type": "code",
   "execution_count": 34,
   "metadata": {},
   "outputs": [],
   "source": [
    "from audiomentations import Compose, AddGaussianNoise, TimeStretch, PitchShift, Shift\n",
    "def augment_samples(samples, sample_rate=4000):\n",
    "    augment = Compose([\n",
    "        AddGaussianNoise(min_amplitude=0.001, max_amplitude=0.015, p=0.5),\n",
    "        TimeStretch(min_rate=0.8, max_rate=1.25, p=0.5),\n",
    "        PitchShift(min_semitones=-4, max_semitones=4, p=0.5),\n",
    "        Shift(min_fraction=0.5, max_fraction=0.5, p=0.5)\n",
    "    ])\n",
    "    \n",
    "    return augment(samples, sample_rate=sample_rate)"
   ]
  },
  {
   "cell_type": "code",
   "execution_count": 44,
   "metadata": {},
   "outputs": [],
   "source": [
    "import librosa\n",
    "import soundfile as sf\n",
    "\n",
    "augmented_data = []\n",
    "idx = 0\n",
    "for index, row in df.iterrows():\n",
    "    if 2 <= row['rhonchus_l'] <= 3:\n",
    "        file_name = '../data/recordings/{id}/{recording}_L.wav'.format(id=row['seal_id'], recording=row['rec_name'])\n",
    "        audio, sr = librosa.load(file_name, sr=None, res_type='kaiser_best')\n",
    "        # Augment/transform/perturb the audio data\n",
    "        for i in range(3):\n",
    "            y = augment_samples(samples=audio, sample_rate=sr)\n",
    "            sf.write('../data/augmented_recordings/sample{idx}.wav'.format(idx=idx), y, sr)\n",
    "            augmented_data.append(['sample{idx}'.format(idx=idx), 'rhonchus_l', row['rhonchus_l'], row['rhonchus_r'], row['whistling_l'], row['whistling_r']])\n",
    "            idx += 1\n",
    "    elif 2 <= row['rhonchus_r'] <= 3:\n",
    "        file_name = '../data/recordings/{id}/{recording}_R.wav'.format(id=row['seal_id'], recording=row['rec_name'])\n",
    "        audio, sr = librosa.load(file_name, sr=None, res_type='kaiser_best')\n",
    "        # Augment/transform/perturb the audio data\n",
    "        for i in range(3):\n",
    "            y = augment_samples(samples=audio, sample_rate=sr)\n",
    "            sf.write('../data/augmented_recordings/sample{idx}.wav'.format(idx=idx), y, sr)\n",
    "            augmented_data.append(['sample{idx}'.format(idx=idx), 'rhonchus_r', row['rhonchus_l'], row['rhonchus_r'], row['whistling_l'], row['whistling_r']])\n",
    "            idx += 1\n",
    "    idx += 1\n",
    "\n",
    "augmented_df = pd.DataFrame(augmented_data, columns=['rec_name', 'row_id', 'rhonchus_l', 'rhonchus_r', 'whistling_l', 'whistling_r'])\n",
    "augmented_df.to_csv('../data/augmented.csv')"
   ]
  },
  {
   "cell_type": "code",
   "execution_count": null,
   "metadata": {},
   "outputs": [],
   "source": []
  }
 ],
 "metadata": {
  "kernelspec": {
   "display_name": "Python 3",
   "language": "python",
   "name": "python3"
  },
  "language_info": {
   "codemirror_mode": {
    "name": "ipython",
    "version": 3
   },
   "file_extension": ".py",
   "mimetype": "text/x-python",
   "name": "python",
   "nbconvert_exporter": "python",
   "pygments_lexer": "ipython3",
   "version": "3.8.8"
  },
  "metadata": {
   "interpreter": {
    "hash": "2e7a95b74c791b48fe2017d707cffe61a1e5a38dae3e3de84ecb00ec750af08a"
   }
  }
 },
 "nbformat": 4,
 "nbformat_minor": 4
}
